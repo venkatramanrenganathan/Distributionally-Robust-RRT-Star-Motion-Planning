{
 "cells": [
  {
   "cell_type": "code",
   "execution_count": null,
   "metadata": {},
   "outputs": [],
   "source": [
    "\"\"\"\n",
    "Uncertainty Propagation in Risk Bounded Motion Planning With Integrated Perception & Control\n",
    "Authors: Venkatraman Renganathan & Tyler H. Summers\n",
    "\n",
    "This script simulates Uncertainty Propagation in Risk Bounded Motion Planning using Distributionally Robust Collision Check\n",
    "This script is tested in Python 3.7, Windows 10, 64-bit\n",
    "(C) Venkatraman Renganathan, Tyler H. Summers 2020.  Email: (vrengana, tyler.summers)@utdallas.edu\n",
    "\n",
    "This program is a free software: you can redistribute it and/or modify it\n",
    "under the terms of the GNU lesser General Public License, either version \n",
    "3.7, or any later version. This program is distributed in the hope that it \n",
    "will be useful, but WITHOUT ANY WARRANTY. \n",
    "\n",
    "\"\"\"\n",
    "\n",
    "# Import the needed packages\n",
    "import numpy as np\n",
    "import matplotlib.plot as plt\n",
    "\n"
   ]
  }
 ],
 "metadata": {
  "kernelspec": {
   "display_name": "Python 3",
   "language": "python",
   "name": "python3"
  },
  "language_info": {
   "codemirror_mode": {
    "name": "ipython",
    "version": 3
   },
   "file_extension": ".py",
   "mimetype": "text/x-python",
   "name": "python",
   "nbconvert_exporter": "python",
   "pygments_lexer": "ipython3",
   "version": "3.7.4"
  }
 },
 "nbformat": 4,
 "nbformat_minor": 2
}
